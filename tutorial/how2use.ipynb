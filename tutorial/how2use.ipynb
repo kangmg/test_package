{
 "cells": [
  {
   "cell_type": "markdown",
   "metadata": {},
   "source": [
    "## MusicMoodClassification\n",
    "\n",
    "> Tutortial Notebook\n",
    "- Content\n",
    "    1. Define the Music set\n",
    "    2. Download Music audio data\n",
    "    3. Add Mood Tag to Music "
   ]
  },
  {
   "cell_type": "markdown",
   "metadata": {},
   "source": [
    "#### 1. Define the Music set"
   ]
  },
  {
   "cell_type": "code",
   "execution_count": null,
   "metadata": {},
   "outputs": [],
   "source": []
  },
  {
   "cell_type": "markdown",
   "metadata": {},
   "source": []
  }
 ],
 "metadata": {
  "language_info": {
   "name": "python"
  }
 },
 "nbformat": 4,
 "nbformat_minor": 2
}
